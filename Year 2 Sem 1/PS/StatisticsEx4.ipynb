{
 "cells": [
  {
   "cell_type": "code",
   "execution_count": 36,
   "metadata": {},
   "outputs": [],
   "source": [
    "cov <- function(XU,XD,YU,YD) {\n",
    "    mult <- randomVarMultiply(XU,XD,YU,YD)\n",
    "    \n",
    "    result <- randomVarMean(mult$XU, mult$XD) - \n",
    "    randomVarMean(XU,XD) * randomVarMean(YU,YD)\n",
    "    return (result)\n",
    "}\n",
    "\n",
    "randomVarMultiply <- function(XU,XD,YU,YD){\n",
    "    ZU <- rep(1, length(XU) * length(YU) )\n",
    "    ZD <- rep(1, length(XU) * length(YU) )\n",
    "    cnt <- 1\n",
    "    for(i in XU) {\n",
    "         for (j in YU)\n",
    "             {\n",
    "                 ZU[cnt] <- i*j\n",
    "                 cnt <- cnt+1\n",
    "         \n",
    "         }\n",
    "    \n",
    "    }\n",
    "    cnt <- 1\n",
    "        for(i in XD) {\n",
    "         for (j in YD)\n",
    "             {\n",
    "                 ZD[cnt] <- i*j\n",
    "                 cnt <- cnt+1\n",
    "         \n",
    "         }\n",
    "    \n",
    "    }\n",
    "    results <- list()\n",
    "    results$XU <- ZU\n",
    "    results$XD <- ZD\n",
    "    return (results)\n",
    "}\n",
    "\n",
    "randomVarMean <- function(XU, XD){\n",
    "    result <- 0\n",
    "    cnt<-1\n",
    "    for(i in XU) {\n",
    "        \n",
    "            result <- as.double(result) +  as.double(i*XD[cnt])\n",
    "            cnt <- cnt+1\n",
    "            \n",
    "         }\n",
    "    \n",
    "    \n",
    "    return (result)\n",
    "}"
   ]
  },
  {
   "cell_type": "code",
   "execution_count": null,
   "metadata": {},
   "outputs": [],
   "source": []
  },
  {
   "cell_type": "code",
   "execution_count": 37,
   "metadata": {},
   "outputs": [],
   "source": [
    "# XU <- c(-2, 1)\n",
    "# XD <- c(0.4, 0.6)\n",
    "# YU <- c(-1, 3)\n",
    "# YD <- c(0.7, 0.3)\n",
    "\n",
    "XU <- c(-1,3)\n",
    "XD <- c(0.6, 0.4)\n",
    "YU <- c(-2,-1,1)\n",
    "YD <- c(0.3,0.4,0.3)"
   ]
  },
  {
   "cell_type": "code",
   "execution_count": 38,
   "metadata": {},
   "outputs": [
    {
     "name": "stdout",
     "output_type": "stream",
     "text": [
      "[1] -1\n",
      "[1] 3\n"
     ]
    }
   ],
   "source": [
    "for(i in XU) {\n",
    " print(i)\n",
    "}"
   ]
  },
  {
   "cell_type": "code",
   "execution_count": null,
   "metadata": {},
   "outputs": [],
   "source": []
  },
  {
   "cell_type": "code",
   "execution_count": 39,
   "metadata": {},
   "outputs": [],
   "source": [
    "D <- randomVarMultiply(XU,XD,YU, YD)"
   ]
  },
  {
   "cell_type": "code",
   "execution_count": 40,
   "metadata": {},
   "outputs": [
    {
     "data": {
      "text/html": [
       "5.55111512312578e-17"
      ],
      "text/latex": [
       "5.55111512312578e-17"
      ],
      "text/markdown": [
       "5.55111512312578e-17"
      ],
      "text/plain": [
       "[1] 5.551115e-17"
      ]
     },
     "metadata": {},
     "output_type": "display_data"
    }
   ],
   "source": [
    "cov(XU,XD,YU,YD)"
   ]
  },
  {
   "cell_type": "code",
   "execution_count": null,
   "metadata": {},
   "outputs": [],
   "source": []
  },
  {
   "cell_type": "code",
   "execution_count": null,
   "metadata": {},
   "outputs": [],
   "source": []
  }
 ],
 "metadata": {
  "kernelspec": {
   "display_name": "R",
   "language": "R",
   "name": "ir"
  },
  "language_info": {
   "codemirror_mode": "r",
   "file_extension": ".r",
   "mimetype": "text/x-r-source",
   "name": "R",
   "pygments_lexer": "r",
   "version": "3.6.1"
  }
 },
 "nbformat": 4,
 "nbformat_minor": 4
}
