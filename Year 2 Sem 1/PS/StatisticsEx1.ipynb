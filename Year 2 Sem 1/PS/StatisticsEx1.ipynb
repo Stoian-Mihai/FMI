{
 "cells": [
  {
   "cell_type": "code",
   "execution_count": null,
   "metadata": {},
   "outputs": [],
   "source": [
    "library(rcompanion)"
   ]
  },
  {
   "cell_type": "code",
   "execution_count": null,
   "metadata": {},
   "outputs": [],
   "source": [
    "rock"
   ]
  },
  {
   "cell_type": "code",
   "execution_count": null,
   "metadata": {},
   "outputs": [],
   "source": [
    "summary(rock)"
   ]
  },
  {
   "cell_type": "code",
   "execution_count": null,
   "metadata": {},
   "outputs": [],
   "source": [
    "print(var(rock$area))\n",
    "print(var(rock$peri))\n",
    "print(var(rock$shape))\n",
    "print(var(rock$perm))"
   ]
  },
  {
   "cell_type": "code",
   "execution_count": null,
   "metadata": {},
   "outputs": [],
   "source": [
    "print(quantile(rock$area))\n",
    "print(quantile(rock$peri))\n",
    "print(quantile(rock$shape))\n",
    "print(quantile(rock$perm))"
   ]
  },
  {
   "cell_type": "code",
   "execution_count": null,
   "metadata": {},
   "outputs": [],
   "source": [
    "print( cor(rock$shape, rock$perm) ) \n",
    "print( cor(rock$area, rock$perm) )\n",
    "print( cor(rock$peri, rock$perm) )\n"
   ]
  },
  {
   "cell_type": "code",
   "execution_count": null,
   "metadata": {},
   "outputs": [],
   "source": [
    "print( cov(rock$shape, rock$perm) ) \n",
    "print( cov(rock$area, rock$perm) )\n",
    "print( cov(rock$peri, rock$perm) )"
   ]
  },
  {
   "cell_type": "code",
   "execution_count": null,
   "metadata": {},
   "outputs": [],
   "source": [
    "\n",
    "scatter.smooth(x=rock$shape, y=rock$perm, main=\"shape ~ perm\")  # scatterplot\n",
    "# observam ca pe parcurs ce creste shape creste si permeabilitatea\n",
    "scatter.smooth(x=rock$area, y=rock$perm, main=\"area ~ perm\")  # scatterplot\n",
    "scatter.smooth(x=rock$peri, y=rock$perm, main=\"peri ~ perm\")  # scatterplot\n",
    "# observam ca pe parcurs ce creste perimeetrul permeabilitatea scade"
   ]
  },
  {
   "cell_type": "code",
   "execution_count": null,
   "metadata": {},
   "outputs": [],
   "source": [
    "par(mfrow=c(1, 4))\n",
    "boxplot(rock$perm, main=\"Permeability\", sub=paste(\"Outlier rows: \", boxplot.stats(rock$perm)$out))  # box plot pentru permeabilitate\n",
    "boxplot(rock$shape, main=\"Shape\", sub=paste(\"Outlier rows: \", boxplot.stats(rock$shape)$out))  # box plot for arie\n",
    "boxplot(rock$area, main=\"area\", sub=paste(\"Outlier rows: \", boxplot.stats(rock$area)$out))  # box plot for spatiu dinre pori\n",
    "boxplot(rock$peri, main=\"perimetru\", sub=paste(\"Outlier rows: \", boxplot.stats(rock$peri)$out))  # box plot for spatiu dinre perimetru\n",
    "\n",
    "#Observam ca ne apar niste outlieri la shape\n",
    "#Si mediana este destul de jos la permeabilitate"
   ]
  },
  {
   "cell_type": "code",
   "execution_count": null,
   "metadata": {},
   "outputs": [],
   "source": [
    "boxplot.stats(rock$shape)$out # outlierii lui shape"
   ]
  },
  {
   "cell_type": "code",
   "execution_count": null,
   "metadata": {},
   "outputs": [],
   "source": [
    "boxplot(rock$perm, rock$shape, rock$area, rock$peri)"
   ]
  },
  {
   "cell_type": "code",
   "execution_count": null,
   "metadata": {},
   "outputs": [],
   "source": [
    "normalize <- function(x){(x-min(x))/(max(x)-min(x))}\n",
    "boxplot(normalize(rock$perm), normalize(rock$shape), normalize(rock$area), normalize(rock$peri))"
   ]
  },
  {
   "cell_type": "code",
   "execution_count": null,
   "metadata": {},
   "outputs": [],
   "source": [
    "# verificam distributia lui shape\n",
    "plotNormalHistogram(rock$shape)"
   ]
  },
  {
   "cell_type": "code",
   "execution_count": null,
   "metadata": {},
   "outputs": [],
   "source": [
    "# verificam distributia lui area\n",
    "plotNormalHistogram(rock$area)"
   ]
  },
  {
   "cell_type": "code",
   "execution_count": null,
   "metadata": {},
   "outputs": [],
   "source": [
    "# verificam distributia lui peri\n",
    "plotNormalHistogram(rock$peri)"
   ]
  },
  {
   "cell_type": "code",
   "execution_count": null,
   "metadata": {},
   "outputs": [],
   "source": [
    "qqnorm(rock$shape, pch = 1, frame = FALSE)\n",
    "qqline(rock$shape, col = \"steelblue\", lwd = 2)"
   ]
  },
  {
   "cell_type": "code",
   "execution_count": null,
   "metadata": {},
   "outputs": [],
   "source": [
    "qqnorm(rock$area, pch = 1, frame = FALSE)\n",
    "qqline(rock$area, col = \"steelblue\", lwd = 2)\n",
    "# observam ca area este distribuita normal"
   ]
  }
 ],
 "metadata": {
  "kernelspec": {
   "display_name": "R",
   "language": "R",
   "name": "ir"
  },
  "language_info": {
   "codemirror_mode": "r",
   "file_extension": ".r",
   "mimetype": "text/x-r-source",
   "name": "R",
   "pygments_lexer": "r",
   "version": "3.6.1"
  }
 },
 "nbformat": 4,
 "nbformat_minor": 4
}
